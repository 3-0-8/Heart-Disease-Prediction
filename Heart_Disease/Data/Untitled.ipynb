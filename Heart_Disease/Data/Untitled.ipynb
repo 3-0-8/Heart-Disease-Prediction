{
 "cells": [
  {
   "cell_type": "markdown",
   "id": "614cf7cd",
   "metadata": {},
   "source": [
    "## IMPORT THE NECESSARY LIBRARIES"
   ]
  },
  {
   "cell_type": "code",
   "execution_count": 500,
   "id": "ae2de637",
   "metadata": {},
   "outputs": [],
   "source": [
    "import pandas as pd\n",
    "import numpy as np\n",
    "import seaborn as sns\n",
    "import matplotlib.pyplot as plt\n",
    "import seaborn as sns"
   ]
  },
  {
   "cell_type": "markdown",
   "id": "5bcbbe30",
   "metadata": {},
   "source": [
    "## GET THE DATA and DATA EXPLORATION"
   ]
  },
  {
   "cell_type": "code",
   "execution_count": 501,
   "id": "f5e0909d",
   "metadata": {},
   "outputs": [
    {
     "data": {
      "text/html": [
       "<div>\n",
       "<style scoped>\n",
       "    .dataframe tbody tr th:only-of-type {\n",
       "        vertical-align: middle;\n",
       "    }\n",
       "\n",
       "    .dataframe tbody tr th {\n",
       "        vertical-align: top;\n",
       "    }\n",
       "\n",
       "    .dataframe thead th {\n",
       "        text-align: right;\n",
       "    }\n",
       "</style>\n",
       "<table border=\"1\" class=\"dataframe\">\n",
       "  <thead>\n",
       "    <tr style=\"text-align: right;\">\n",
       "      <th></th>\n",
       "      <th>male</th>\n",
       "      <th>age</th>\n",
       "      <th>currentSmoker</th>\n",
       "      <th>cigsPerDay</th>\n",
       "      <th>BPMeds</th>\n",
       "      <th>prevalentStroke</th>\n",
       "      <th>prevalentHyp</th>\n",
       "      <th>diabetes</th>\n",
       "      <th>totChol</th>\n",
       "      <th>sysBP</th>\n",
       "      <th>diaBP</th>\n",
       "      <th>BMI</th>\n",
       "      <th>heartRate</th>\n",
       "      <th>glucose</th>\n",
       "      <th>TenYearCHD</th>\n",
       "    </tr>\n",
       "  </thead>\n",
       "  <tbody>\n",
       "    <tr>\n",
       "      <th>0</th>\n",
       "      <td>1</td>\n",
       "      <td>48</td>\n",
       "      <td>1</td>\n",
       "      <td>20.0</td>\n",
       "      <td>0.0</td>\n",
       "      <td>0</td>\n",
       "      <td>0</td>\n",
       "      <td>0</td>\n",
       "      <td>245.0</td>\n",
       "      <td>127.5</td>\n",
       "      <td>80.0</td>\n",
       "      <td>25.34</td>\n",
       "      <td>75.0</td>\n",
       "      <td>70.0</td>\n",
       "      <td>0</td>\n",
       "    </tr>\n",
       "    <tr>\n",
       "      <th>1</th>\n",
       "      <td>0</td>\n",
       "      <td>61</td>\n",
       "      <td>1</td>\n",
       "      <td>30.0</td>\n",
       "      <td>0.0</td>\n",
       "      <td>0</td>\n",
       "      <td>1</td>\n",
       "      <td>0</td>\n",
       "      <td>225.0</td>\n",
       "      <td>150.0</td>\n",
       "      <td>95.0</td>\n",
       "      <td>28.58</td>\n",
       "      <td>65.0</td>\n",
       "      <td>103.0</td>\n",
       "      <td>1</td>\n",
       "    </tr>\n",
       "    <tr>\n",
       "      <th>2</th>\n",
       "      <td>0</td>\n",
       "      <td>46</td>\n",
       "      <td>1</td>\n",
       "      <td>23.0</td>\n",
       "      <td>0.0</td>\n",
       "      <td>0</td>\n",
       "      <td>0</td>\n",
       "      <td>0</td>\n",
       "      <td>285.0</td>\n",
       "      <td>130.0</td>\n",
       "      <td>84.0</td>\n",
       "      <td>23.10</td>\n",
       "      <td>85.0</td>\n",
       "      <td>85.0</td>\n",
       "      <td>0</td>\n",
       "    </tr>\n",
       "    <tr>\n",
       "      <th>3</th>\n",
       "      <td>0</td>\n",
       "      <td>43</td>\n",
       "      <td>0</td>\n",
       "      <td>0.0</td>\n",
       "      <td>0.0</td>\n",
       "      <td>0</td>\n",
       "      <td>1</td>\n",
       "      <td>0</td>\n",
       "      <td>228.0</td>\n",
       "      <td>180.0</td>\n",
       "      <td>110.0</td>\n",
       "      <td>30.30</td>\n",
       "      <td>77.0</td>\n",
       "      <td>99.0</td>\n",
       "      <td>0</td>\n",
       "    </tr>\n",
       "    <tr>\n",
       "      <th>4</th>\n",
       "      <td>0</td>\n",
       "      <td>63</td>\n",
       "      <td>0</td>\n",
       "      <td>0.0</td>\n",
       "      <td>0.0</td>\n",
       "      <td>0</td>\n",
       "      <td>0</td>\n",
       "      <td>0</td>\n",
       "      <td>205.0</td>\n",
       "      <td>138.0</td>\n",
       "      <td>71.0</td>\n",
       "      <td>33.11</td>\n",
       "      <td>60.0</td>\n",
       "      <td>85.0</td>\n",
       "      <td>1</td>\n",
       "    </tr>\n",
       "    <tr>\n",
       "      <th>...</th>\n",
       "      <td>...</td>\n",
       "      <td>...</td>\n",
       "      <td>...</td>\n",
       "      <td>...</td>\n",
       "      <td>...</td>\n",
       "      <td>...</td>\n",
       "      <td>...</td>\n",
       "      <td>...</td>\n",
       "      <td>...</td>\n",
       "      <td>...</td>\n",
       "      <td>...</td>\n",
       "      <td>...</td>\n",
       "      <td>...</td>\n",
       "      <td>...</td>\n",
       "      <td>...</td>\n",
       "    </tr>\n",
       "    <tr>\n",
       "      <th>1512</th>\n",
       "      <td>1</td>\n",
       "      <td>58</td>\n",
       "      <td>0</td>\n",
       "      <td>0.0</td>\n",
       "      <td>0.0</td>\n",
       "      <td>0</td>\n",
       "      <td>1</td>\n",
       "      <td>0</td>\n",
       "      <td>187.0</td>\n",
       "      <td>141.0</td>\n",
       "      <td>81.0</td>\n",
       "      <td>24.96</td>\n",
       "      <td>80.0</td>\n",
       "      <td>81.0</td>\n",
       "      <td>0</td>\n",
       "    </tr>\n",
       "    <tr>\n",
       "      <th>1513</th>\n",
       "      <td>1</td>\n",
       "      <td>68</td>\n",
       "      <td>0</td>\n",
       "      <td>0.0</td>\n",
       "      <td>0.0</td>\n",
       "      <td>0</td>\n",
       "      <td>1</td>\n",
       "      <td>0</td>\n",
       "      <td>176.0</td>\n",
       "      <td>168.0</td>\n",
       "      <td>97.0</td>\n",
       "      <td>23.14</td>\n",
       "      <td>60.0</td>\n",
       "      <td>79.0</td>\n",
       "      <td>1</td>\n",
       "    </tr>\n",
       "    <tr>\n",
       "      <th>1514</th>\n",
       "      <td>1</td>\n",
       "      <td>50</td>\n",
       "      <td>1</td>\n",
       "      <td>1.0</td>\n",
       "      <td>0.0</td>\n",
       "      <td>0</td>\n",
       "      <td>1</td>\n",
       "      <td>0</td>\n",
       "      <td>313.0</td>\n",
       "      <td>179.0</td>\n",
       "      <td>92.0</td>\n",
       "      <td>25.97</td>\n",
       "      <td>66.0</td>\n",
       "      <td>86.0</td>\n",
       "      <td>1</td>\n",
       "    </tr>\n",
       "    <tr>\n",
       "      <th>1515</th>\n",
       "      <td>1</td>\n",
       "      <td>51</td>\n",
       "      <td>1</td>\n",
       "      <td>43.0</td>\n",
       "      <td>0.0</td>\n",
       "      <td>0</td>\n",
       "      <td>0</td>\n",
       "      <td>0</td>\n",
       "      <td>207.0</td>\n",
       "      <td>126.5</td>\n",
       "      <td>80.0</td>\n",
       "      <td>19.71</td>\n",
       "      <td>65.0</td>\n",
       "      <td>68.0</td>\n",
       "      <td>0</td>\n",
       "    </tr>\n",
       "    <tr>\n",
       "      <th>1516</th>\n",
       "      <td>0</td>\n",
       "      <td>52</td>\n",
       "      <td>0</td>\n",
       "      <td>0.0</td>\n",
       "      <td>0.0</td>\n",
       "      <td>0</td>\n",
       "      <td>0</td>\n",
       "      <td>0</td>\n",
       "      <td>269.0</td>\n",
       "      <td>133.5</td>\n",
       "      <td>83.0</td>\n",
       "      <td>21.47</td>\n",
       "      <td>80.0</td>\n",
       "      <td>107.0</td>\n",
       "      <td>0</td>\n",
       "    </tr>\n",
       "  </tbody>\n",
       "</table>\n",
       "<p>1517 rows × 15 columns</p>\n",
       "</div>"
      ],
      "text/plain": [
       "      male  age  currentSmoker  cigsPerDay  BPMeds  prevalentStroke  \\\n",
       "0        1   48              1        20.0     0.0                0   \n",
       "1        0   61              1        30.0     0.0                0   \n",
       "2        0   46              1        23.0     0.0                0   \n",
       "3        0   43              0         0.0     0.0                0   \n",
       "4        0   63              0         0.0     0.0                0   \n",
       "...    ...  ...            ...         ...     ...              ...   \n",
       "1512     1   58              0         0.0     0.0                0   \n",
       "1513     1   68              0         0.0     0.0                0   \n",
       "1514     1   50              1         1.0     0.0                0   \n",
       "1515     1   51              1        43.0     0.0                0   \n",
       "1516     0   52              0         0.0     0.0                0   \n",
       "\n",
       "      prevalentHyp  diabetes  totChol  sysBP  diaBP    BMI  heartRate  \\\n",
       "0                0         0    245.0  127.5   80.0  25.34       75.0   \n",
       "1                1         0    225.0  150.0   95.0  28.58       65.0   \n",
       "2                0         0    285.0  130.0   84.0  23.10       85.0   \n",
       "3                1         0    228.0  180.0  110.0  30.30       77.0   \n",
       "4                0         0    205.0  138.0   71.0  33.11       60.0   \n",
       "...            ...       ...      ...    ...    ...    ...        ...   \n",
       "1512             1         0    187.0  141.0   81.0  24.96       80.0   \n",
       "1513             1         0    176.0  168.0   97.0  23.14       60.0   \n",
       "1514             1         0    313.0  179.0   92.0  25.97       66.0   \n",
       "1515             0         0    207.0  126.5   80.0  19.71       65.0   \n",
       "1516             0         0    269.0  133.5   83.0  21.47       80.0   \n",
       "\n",
       "      glucose  TenYearCHD  \n",
       "0        70.0           0  \n",
       "1       103.0           1  \n",
       "2        85.0           0  \n",
       "3        99.0           0  \n",
       "4        85.0           1  \n",
       "...       ...         ...  \n",
       "1512     81.0           0  \n",
       "1513     79.0           1  \n",
       "1514     86.0           1  \n",
       "1515     68.0           0  \n",
       "1516    107.0           0  \n",
       "\n",
       "[1517 rows x 15 columns]"
      ]
     },
     "execution_count": 501,
     "metadata": {},
     "output_type": "execute_result"
    }
   ],
   "source": [
    "# read the data\n",
    "df=pd.read_csv('framingham (3).csv')\n",
    "df"
   ]
  },
  {
   "cell_type": "code",
   "execution_count": 502,
   "id": "72df8d2b",
   "metadata": {},
   "outputs": [
    {
     "data": {
      "text/plain": [
       "(1517, 15)"
      ]
     },
     "execution_count": 502,
     "metadata": {},
     "output_type": "execute_result"
    }
   ],
   "source": [
    "# number of rows and columns in the dataset\n",
    "df.shape"
   ]
  },
  {
   "cell_type": "code",
   "execution_count": 527,
   "id": "1b44a84d",
   "metadata": {},
   "outputs": [
    {
     "data": {
      "text/plain": [
       "0    879\n",
       "1    638\n",
       "Name: TenYearCHD, dtype: int64"
      ]
     },
     "execution_count": 527,
     "metadata": {},
     "output_type": "execute_result"
    }
   ],
   "source": [
    "df['TenYearCHD'].value_counts()"
   ]
  },
  {
   "cell_type": "markdown",
   "id": "6654e0d5",
   "metadata": {},
   "source": [
    "1 --> Defective Heart\n",
    "\n",
    "0 --> Healthy Heart"
   ]
  },
  {
   "cell_type": "code",
   "execution_count": 528,
   "id": "8985032e",
   "metadata": {},
   "outputs": [
    {
     "data": {
      "text/plain": [
       "gender               15.232380\n",
       "age                  27.121131\n",
       "smoker                3.808158\n",
       "cigar_no_per_day      8.817275\n",
       "BPMeds                9.519262\n",
       "stroke                6.331573\n",
       "Hypertension         23.085146\n",
       "diabetes             10.940598\n",
       "totChol              11.471832\n",
       "systolic_bp          25.298235\n",
       "diastolic_bp         17.244421\n",
       "BMI                   9.225979\n",
       "heartRate             1.553663\n",
       "glucose              13.205046\n",
       "TenYearCHD          100.000000\n",
       "dtype: float64"
      ]
     },
     "execution_count": 528,
     "metadata": {},
     "output_type": "execute_result"
    }
   ],
   "source": [
    "df.corrwith(df['TenYearCHD'])*100"
   ]
  },
  {
   "cell_type": "code",
   "execution_count": 526,
   "id": "7a3ef825",
   "metadata": {},
   "outputs": [
    {
     "data": {
      "text/html": [
       "<div>\n",
       "<style scoped>\n",
       "    .dataframe tbody tr th:only-of-type {\n",
       "        vertical-align: middle;\n",
       "    }\n",
       "\n",
       "    .dataframe tbody tr th {\n",
       "        vertical-align: top;\n",
       "    }\n",
       "\n",
       "    .dataframe thead th {\n",
       "        text-align: right;\n",
       "    }\n",
       "</style>\n",
       "<table border=\"1\" class=\"dataframe\">\n",
       "  <thead>\n",
       "    <tr style=\"text-align: right;\">\n",
       "      <th></th>\n",
       "      <th>gender</th>\n",
       "      <th>age</th>\n",
       "      <th>smoker</th>\n",
       "      <th>cigar_no_per_day</th>\n",
       "      <th>BPMeds</th>\n",
       "      <th>stroke</th>\n",
       "      <th>Hypertension</th>\n",
       "      <th>diabetes</th>\n",
       "      <th>totChol</th>\n",
       "      <th>systolic_bp</th>\n",
       "      <th>diastolic_bp</th>\n",
       "      <th>BMI</th>\n",
       "      <th>heartRate</th>\n",
       "      <th>glucose</th>\n",
       "      <th>TenYearCHD</th>\n",
       "    </tr>\n",
       "  </thead>\n",
       "  <tbody>\n",
       "    <tr>\n",
       "      <th>1</th>\n",
       "      <td>0</td>\n",
       "      <td>61</td>\n",
       "      <td>1</td>\n",
       "      <td>30.0</td>\n",
       "      <td>0.0</td>\n",
       "      <td>0</td>\n",
       "      <td>1</td>\n",
       "      <td>0</td>\n",
       "      <td>225.0</td>\n",
       "      <td>150.0</td>\n",
       "      <td>95.0</td>\n",
       "      <td>28.58</td>\n",
       "      <td>65.0</td>\n",
       "      <td>103.0</td>\n",
       "      <td>1</td>\n",
       "    </tr>\n",
       "    <tr>\n",
       "      <th>4</th>\n",
       "      <td>0</td>\n",
       "      <td>63</td>\n",
       "      <td>0</td>\n",
       "      <td>0.0</td>\n",
       "      <td>0.0</td>\n",
       "      <td>0</td>\n",
       "      <td>0</td>\n",
       "      <td>0</td>\n",
       "      <td>205.0</td>\n",
       "      <td>138.0</td>\n",
       "      <td>71.0</td>\n",
       "      <td>33.11</td>\n",
       "      <td>60.0</td>\n",
       "      <td>85.0</td>\n",
       "      <td>1</td>\n",
       "    </tr>\n",
       "    <tr>\n",
       "      <th>6</th>\n",
       "      <td>0</td>\n",
       "      <td>38</td>\n",
       "      <td>1</td>\n",
       "      <td>20.0</td>\n",
       "      <td>0.0</td>\n",
       "      <td>0</td>\n",
       "      <td>1</td>\n",
       "      <td>0</td>\n",
       "      <td>221.0</td>\n",
       "      <td>140.0</td>\n",
       "      <td>90.0</td>\n",
       "      <td>21.35</td>\n",
       "      <td>95.0</td>\n",
       "      <td>70.0</td>\n",
       "      <td>1</td>\n",
       "    </tr>\n",
       "    <tr>\n",
       "      <th>8</th>\n",
       "      <td>0</td>\n",
       "      <td>46</td>\n",
       "      <td>1</td>\n",
       "      <td>20.0</td>\n",
       "      <td>0.0</td>\n",
       "      <td>0</td>\n",
       "      <td>0</td>\n",
       "      <td>0</td>\n",
       "      <td>291.0</td>\n",
       "      <td>112.0</td>\n",
       "      <td>78.0</td>\n",
       "      <td>23.38</td>\n",
       "      <td>80.0</td>\n",
       "      <td>89.0</td>\n",
       "      <td>1</td>\n",
       "    </tr>\n",
       "    <tr>\n",
       "      <th>10</th>\n",
       "      <td>1</td>\n",
       "      <td>47</td>\n",
       "      <td>1</td>\n",
       "      <td>20.0</td>\n",
       "      <td>0.0</td>\n",
       "      <td>0</td>\n",
       "      <td>0</td>\n",
       "      <td>0</td>\n",
       "      <td>294.0</td>\n",
       "      <td>102.0</td>\n",
       "      <td>68.0</td>\n",
       "      <td>24.18</td>\n",
       "      <td>62.0</td>\n",
       "      <td>66.0</td>\n",
       "      <td>1</td>\n",
       "    </tr>\n",
       "    <tr>\n",
       "      <th>...</th>\n",
       "      <td>...</td>\n",
       "      <td>...</td>\n",
       "      <td>...</td>\n",
       "      <td>...</td>\n",
       "      <td>...</td>\n",
       "      <td>...</td>\n",
       "      <td>...</td>\n",
       "      <td>...</td>\n",
       "      <td>...</td>\n",
       "      <td>...</td>\n",
       "      <td>...</td>\n",
       "      <td>...</td>\n",
       "      <td>...</td>\n",
       "      <td>...</td>\n",
       "      <td>...</td>\n",
       "    </tr>\n",
       "    <tr>\n",
       "      <th>1505</th>\n",
       "      <td>1</td>\n",
       "      <td>50</td>\n",
       "      <td>0</td>\n",
       "      <td>0.0</td>\n",
       "      <td>0.0</td>\n",
       "      <td>0</td>\n",
       "      <td>0</td>\n",
       "      <td>0</td>\n",
       "      <td>260.0</td>\n",
       "      <td>119.0</td>\n",
       "      <td>74.0</td>\n",
       "      <td>21.85</td>\n",
       "      <td>80.0</td>\n",
       "      <td>72.0</td>\n",
       "      <td>1</td>\n",
       "    </tr>\n",
       "    <tr>\n",
       "      <th>1507</th>\n",
       "      <td>1</td>\n",
       "      <td>56</td>\n",
       "      <td>0</td>\n",
       "      <td>0.0</td>\n",
       "      <td>1.0</td>\n",
       "      <td>0</td>\n",
       "      <td>1</td>\n",
       "      <td>0</td>\n",
       "      <td>287.0</td>\n",
       "      <td>149.0</td>\n",
       "      <td>98.0</td>\n",
       "      <td>21.68</td>\n",
       "      <td>90.0</td>\n",
       "      <td>75.0</td>\n",
       "      <td>1</td>\n",
       "    </tr>\n",
       "    <tr>\n",
       "      <th>1510</th>\n",
       "      <td>1</td>\n",
       "      <td>58</td>\n",
       "      <td>0</td>\n",
       "      <td>0.0</td>\n",
       "      <td>0.0</td>\n",
       "      <td>0</td>\n",
       "      <td>0</td>\n",
       "      <td>0</td>\n",
       "      <td>233.0</td>\n",
       "      <td>125.5</td>\n",
       "      <td>84.0</td>\n",
       "      <td>26.05</td>\n",
       "      <td>67.0</td>\n",
       "      <td>76.0</td>\n",
       "      <td>1</td>\n",
       "    </tr>\n",
       "    <tr>\n",
       "      <th>1513</th>\n",
       "      <td>1</td>\n",
       "      <td>68</td>\n",
       "      <td>0</td>\n",
       "      <td>0.0</td>\n",
       "      <td>0.0</td>\n",
       "      <td>0</td>\n",
       "      <td>1</td>\n",
       "      <td>0</td>\n",
       "      <td>176.0</td>\n",
       "      <td>168.0</td>\n",
       "      <td>97.0</td>\n",
       "      <td>23.14</td>\n",
       "      <td>60.0</td>\n",
       "      <td>79.0</td>\n",
       "      <td>1</td>\n",
       "    </tr>\n",
       "    <tr>\n",
       "      <th>1514</th>\n",
       "      <td>1</td>\n",
       "      <td>50</td>\n",
       "      <td>1</td>\n",
       "      <td>1.0</td>\n",
       "      <td>0.0</td>\n",
       "      <td>0</td>\n",
       "      <td>1</td>\n",
       "      <td>0</td>\n",
       "      <td>313.0</td>\n",
       "      <td>179.0</td>\n",
       "      <td>92.0</td>\n",
       "      <td>25.97</td>\n",
       "      <td>66.0</td>\n",
       "      <td>86.0</td>\n",
       "      <td>1</td>\n",
       "    </tr>\n",
       "  </tbody>\n",
       "</table>\n",
       "<p>638 rows × 15 columns</p>\n",
       "</div>"
      ],
      "text/plain": [
       "      gender  age  smoker  cigar_no_per_day  BPMeds  stroke  Hypertension  \\\n",
       "1          0   61       1              30.0     0.0       0             1   \n",
       "4          0   63       0               0.0     0.0       0             0   \n",
       "6          0   38       1              20.0     0.0       0             1   \n",
       "8          0   46       1              20.0     0.0       0             0   \n",
       "10         1   47       1              20.0     0.0       0             0   \n",
       "...      ...  ...     ...               ...     ...     ...           ...   \n",
       "1505       1   50       0               0.0     0.0       0             0   \n",
       "1507       1   56       0               0.0     1.0       0             1   \n",
       "1510       1   58       0               0.0     0.0       0             0   \n",
       "1513       1   68       0               0.0     0.0       0             1   \n",
       "1514       1   50       1               1.0     0.0       0             1   \n",
       "\n",
       "      diabetes  totChol  systolic_bp  diastolic_bp    BMI  heartRate  glucose  \\\n",
       "1            0    225.0        150.0          95.0  28.58       65.0    103.0   \n",
       "4            0    205.0        138.0          71.0  33.11       60.0     85.0   \n",
       "6            0    221.0        140.0          90.0  21.35       95.0     70.0   \n",
       "8            0    291.0        112.0          78.0  23.38       80.0     89.0   \n",
       "10           0    294.0        102.0          68.0  24.18       62.0     66.0   \n",
       "...        ...      ...          ...           ...    ...        ...      ...   \n",
       "1505         0    260.0        119.0          74.0  21.85       80.0     72.0   \n",
       "1507         0    287.0        149.0          98.0  21.68       90.0     75.0   \n",
       "1510         0    233.0        125.5          84.0  26.05       67.0     76.0   \n",
       "1513         0    176.0        168.0          97.0  23.14       60.0     79.0   \n",
       "1514         0    313.0        179.0          92.0  25.97       66.0     86.0   \n",
       "\n",
       "      TenYearCHD  \n",
       "1              1  \n",
       "4              1  \n",
       "6              1  \n",
       "8              1  \n",
       "10             1  \n",
       "...          ...  \n",
       "1505           1  \n",
       "1507           1  \n",
       "1510           1  \n",
       "1513           1  \n",
       "1514           1  \n",
       "\n",
       "[638 rows x 15 columns]"
      ]
     },
     "execution_count": 526,
     "metadata": {},
     "output_type": "execute_result"
    }
   ],
   "source": [
    "df[df['TenYearCHD']==1]"
   ]
  },
  {
   "cell_type": "code",
   "execution_count": 525,
   "id": "4971e57b",
   "metadata": {},
   "outputs": [
    {
     "data": {
      "text/html": [
       "<div>\n",
       "<style scoped>\n",
       "    .dataframe tbody tr th:only-of-type {\n",
       "        vertical-align: middle;\n",
       "    }\n",
       "\n",
       "    .dataframe tbody tr th {\n",
       "        vertical-align: top;\n",
       "    }\n",
       "\n",
       "    .dataframe thead th {\n",
       "        text-align: right;\n",
       "    }\n",
       "</style>\n",
       "<table border=\"1\" class=\"dataframe\">\n",
       "  <thead>\n",
       "    <tr style=\"text-align: right;\">\n",
       "      <th></th>\n",
       "      <th>gender</th>\n",
       "      <th>age</th>\n",
       "      <th>smoker</th>\n",
       "      <th>cigar_no_per_day</th>\n",
       "      <th>BPMeds</th>\n",
       "      <th>stroke</th>\n",
       "      <th>Hypertension</th>\n",
       "      <th>diabetes</th>\n",
       "      <th>totChol</th>\n",
       "      <th>systolic_bp</th>\n",
       "      <th>diastolic_bp</th>\n",
       "      <th>BMI</th>\n",
       "      <th>heartRate</th>\n",
       "      <th>glucose</th>\n",
       "      <th>TenYearCHD</th>\n",
       "    </tr>\n",
       "  </thead>\n",
       "  <tbody>\n",
       "    <tr>\n",
       "      <th>count</th>\n",
       "      <td>1517.000000</td>\n",
       "      <td>1517.000000</td>\n",
       "      <td>1517.000000</td>\n",
       "      <td>1510.000000</td>\n",
       "      <td>1499.000000</td>\n",
       "      <td>1517.000000</td>\n",
       "      <td>1517.000000</td>\n",
       "      <td>1517.000000</td>\n",
       "      <td>1497.000000</td>\n",
       "      <td>1517.000000</td>\n",
       "      <td>1517.000000</td>\n",
       "      <td>1503.000000</td>\n",
       "      <td>1516.000000</td>\n",
       "      <td>1395.000000</td>\n",
       "      <td>1517.000000</td>\n",
       "    </tr>\n",
       "    <tr>\n",
       "      <th>mean</th>\n",
       "      <td>0.445616</td>\n",
       "      <td>51.367831</td>\n",
       "      <td>0.491760</td>\n",
       "      <td>9.322517</td>\n",
       "      <td>0.042695</td>\n",
       "      <td>0.009888</td>\n",
       "      <td>0.375082</td>\n",
       "      <td>0.036915</td>\n",
       "      <td>239.074816</td>\n",
       "      <td>136.513184</td>\n",
       "      <td>84.388266</td>\n",
       "      <td>26.067332</td>\n",
       "      <td>76.300792</td>\n",
       "      <td>84.172043</td>\n",
       "      <td>0.420567</td>\n",
       "    </tr>\n",
       "    <tr>\n",
       "      <th>std</th>\n",
       "      <td>0.497198</td>\n",
       "      <td>8.601127</td>\n",
       "      <td>0.500097</td>\n",
       "      <td>12.323826</td>\n",
       "      <td>0.202236</td>\n",
       "      <td>0.098978</td>\n",
       "      <td>0.484304</td>\n",
       "      <td>0.188615</td>\n",
       "      <td>45.245200</td>\n",
       "      <td>23.943414</td>\n",
       "      <td>12.802844</td>\n",
       "      <td>4.249447</td>\n",
       "      <td>12.166307</td>\n",
       "      <td>30.735983</td>\n",
       "      <td>0.493813</td>\n",
       "    </tr>\n",
       "    <tr>\n",
       "      <th>min</th>\n",
       "      <td>0.000000</td>\n",
       "      <td>32.000000</td>\n",
       "      <td>0.000000</td>\n",
       "      <td>0.000000</td>\n",
       "      <td>0.000000</td>\n",
       "      <td>0.000000</td>\n",
       "      <td>0.000000</td>\n",
       "      <td>0.000000</td>\n",
       "      <td>107.000000</td>\n",
       "      <td>83.500000</td>\n",
       "      <td>48.000000</td>\n",
       "      <td>15.540000</td>\n",
       "      <td>46.000000</td>\n",
       "      <td>40.000000</td>\n",
       "      <td>0.000000</td>\n",
       "    </tr>\n",
       "    <tr>\n",
       "      <th>25%</th>\n",
       "      <td>0.000000</td>\n",
       "      <td>44.000000</td>\n",
       "      <td>0.000000</td>\n",
       "      <td>0.000000</td>\n",
       "      <td>0.000000</td>\n",
       "      <td>0.000000</td>\n",
       "      <td>0.000000</td>\n",
       "      <td>0.000000</td>\n",
       "      <td>208.000000</td>\n",
       "      <td>120.000000</td>\n",
       "      <td>76.000000</td>\n",
       "      <td>23.240000</td>\n",
       "      <td>68.000000</td>\n",
       "      <td>72.000000</td>\n",
       "      <td>0.000000</td>\n",
       "    </tr>\n",
       "    <tr>\n",
       "      <th>50%</th>\n",
       "      <td>0.000000</td>\n",
       "      <td>51.000000</td>\n",
       "      <td>0.000000</td>\n",
       "      <td>0.000000</td>\n",
       "      <td>0.000000</td>\n",
       "      <td>0.000000</td>\n",
       "      <td>0.000000</td>\n",
       "      <td>0.000000</td>\n",
       "      <td>235.000000</td>\n",
       "      <td>132.500000</td>\n",
       "      <td>83.000000</td>\n",
       "      <td>25.750000</td>\n",
       "      <td>75.000000</td>\n",
       "      <td>78.000000</td>\n",
       "      <td>0.000000</td>\n",
       "    </tr>\n",
       "    <tr>\n",
       "      <th>75%</th>\n",
       "      <td>1.000000</td>\n",
       "      <td>59.000000</td>\n",
       "      <td>1.000000</td>\n",
       "      <td>20.000000</td>\n",
       "      <td>0.000000</td>\n",
       "      <td>0.000000</td>\n",
       "      <td>1.000000</td>\n",
       "      <td>0.000000</td>\n",
       "      <td>266.000000</td>\n",
       "      <td>148.000000</td>\n",
       "      <td>91.000000</td>\n",
       "      <td>28.330000</td>\n",
       "      <td>83.000000</td>\n",
       "      <td>88.000000</td>\n",
       "      <td>1.000000</td>\n",
       "    </tr>\n",
       "    <tr>\n",
       "      <th>max</th>\n",
       "      <td>1.000000</td>\n",
       "      <td>70.000000</td>\n",
       "      <td>1.000000</td>\n",
       "      <td>60.000000</td>\n",
       "      <td>1.000000</td>\n",
       "      <td>1.000000</td>\n",
       "      <td>1.000000</td>\n",
       "      <td>1.000000</td>\n",
       "      <td>600.000000</td>\n",
       "      <td>295.000000</td>\n",
       "      <td>142.500000</td>\n",
       "      <td>56.800000</td>\n",
       "      <td>143.000000</td>\n",
       "      <td>394.000000</td>\n",
       "      <td>1.000000</td>\n",
       "    </tr>\n",
       "  </tbody>\n",
       "</table>\n",
       "</div>"
      ],
      "text/plain": [
       "            gender          age       smoker  cigar_no_per_day       BPMeds  \\\n",
       "count  1517.000000  1517.000000  1517.000000       1510.000000  1499.000000   \n",
       "mean      0.445616    51.367831     0.491760          9.322517     0.042695   \n",
       "std       0.497198     8.601127     0.500097         12.323826     0.202236   \n",
       "min       0.000000    32.000000     0.000000          0.000000     0.000000   \n",
       "25%       0.000000    44.000000     0.000000          0.000000     0.000000   \n",
       "50%       0.000000    51.000000     0.000000          0.000000     0.000000   \n",
       "75%       1.000000    59.000000     1.000000         20.000000     0.000000   \n",
       "max       1.000000    70.000000     1.000000         60.000000     1.000000   \n",
       "\n",
       "            stroke  Hypertension     diabetes      totChol  systolic_bp  \\\n",
       "count  1517.000000   1517.000000  1517.000000  1497.000000  1517.000000   \n",
       "mean      0.009888      0.375082     0.036915   239.074816   136.513184   \n",
       "std       0.098978      0.484304     0.188615    45.245200    23.943414   \n",
       "min       0.000000      0.000000     0.000000   107.000000    83.500000   \n",
       "25%       0.000000      0.000000     0.000000   208.000000   120.000000   \n",
       "50%       0.000000      0.000000     0.000000   235.000000   132.500000   \n",
       "75%       0.000000      1.000000     0.000000   266.000000   148.000000   \n",
       "max       1.000000      1.000000     1.000000   600.000000   295.000000   \n",
       "\n",
       "       diastolic_bp          BMI    heartRate      glucose   TenYearCHD  \n",
       "count   1517.000000  1503.000000  1516.000000  1395.000000  1517.000000  \n",
       "mean      84.388266    26.067332    76.300792    84.172043     0.420567  \n",
       "std       12.802844     4.249447    12.166307    30.735983     0.493813  \n",
       "min       48.000000    15.540000    46.000000    40.000000     0.000000  \n",
       "25%       76.000000    23.240000    68.000000    72.000000     0.000000  \n",
       "50%       83.000000    25.750000    75.000000    78.000000     0.000000  \n",
       "75%       91.000000    28.330000    83.000000    88.000000     1.000000  \n",
       "max      142.500000    56.800000   143.000000   394.000000     1.000000  "
      ]
     },
     "execution_count": 525,
     "metadata": {},
     "output_type": "execute_result"
    }
   ],
   "source": [
    "df.describe()"
   ]
  },
  {
   "cell_type": "code",
   "execution_count": 503,
   "id": "daf95630",
   "metadata": {},
   "outputs": [
    {
     "name": "stdout",
     "output_type": "stream",
     "text": [
      "<class 'pandas.core.frame.DataFrame'>\n",
      "RangeIndex: 1517 entries, 0 to 1516\n",
      "Data columns (total 15 columns):\n",
      " #   Column           Non-Null Count  Dtype  \n",
      "---  ------           --------------  -----  \n",
      " 0   male             1517 non-null   int64  \n",
      " 1   age              1517 non-null   int64  \n",
      " 2   currentSmoker    1517 non-null   int64  \n",
      " 3   cigsPerDay       1510 non-null   float64\n",
      " 4   BPMeds           1499 non-null   float64\n",
      " 5   prevalentStroke  1517 non-null   int64  \n",
      " 6   prevalentHyp     1517 non-null   int64  \n",
      " 7   diabetes         1517 non-null   int64  \n",
      " 8   totChol          1497 non-null   float64\n",
      " 9   sysBP            1517 non-null   float64\n",
      " 10  diaBP            1517 non-null   float64\n",
      " 11  BMI              1503 non-null   float64\n",
      " 12  heartRate        1516 non-null   float64\n",
      " 13  glucose          1395 non-null   float64\n",
      " 14  TenYearCHD       1517 non-null   int64  \n",
      "dtypes: float64(8), int64(7)\n",
      "memory usage: 177.9 KB\n"
     ]
    }
   ],
   "source": [
    "df.info()"
   ]
  },
  {
   "cell_type": "markdown",
   "id": "31826443",
   "metadata": {},
   "source": [
    "### Data Preparation"
   ]
  },
  {
   "cell_type": "code",
   "execution_count": 530,
   "id": "32606c73",
   "metadata": {},
   "outputs": [],
   "source": [
    "# renaming of columns for ease of understanding\n",
    "df.rename (columns={'male':'gender'},inplace=True)\n",
    "df.rename (columns={'prevalentstroke':'stroke'},inplace=True)\n",
    "df.rename (columns={'currentSmoker':'smoker'},inplace=True)\n",
    "df.rename (columns={'cigsPerDay':'cigar_no_per_day'},inplace=True)\n",
    "df.rename (columns={'sysBP':'systolic_bp'},inplace=True)\n",
    "df.rename (columns={'prevalentStroke':'stroke'},inplace=True)\n",
    "df.rename (columns={'prevalentHyp':'Hypertension'},inplace=True)\n",
    "df.rename (columns={'chol':'cholestrol'},inplace=True)\n",
    "df.rename (columns={'sysBP':'systolic_bp'},inplace=True)\n",
    "df.rename (columns={'diaBP':'diastolic_bp'},inplace=True)\n",
    "df.rename (columns={'TenYearCHD':'Heart_Disease'},inplace=True)"
   ]
  },
  {
   "cell_type": "markdown",
   "id": "5bacad62",
   "metadata": {},
   "source": [
    "###### Checking for missing values"
   ]
  },
  {
   "cell_type": "code",
   "execution_count": 531,
   "id": "38e15f99",
   "metadata": {},
   "outputs": [
    {
     "data": {
      "text/plain": [
       "gender                0\n",
       "age                   0\n",
       "smoker                0\n",
       "cigar_no_per_day      7\n",
       "BPMeds               18\n",
       "stroke                0\n",
       "Hypertension          0\n",
       "diabetes              0\n",
       "totChol              20\n",
       "systolic_bp           0\n",
       "diastolic_bp          0\n",
       "BMI                  14\n",
       "heartRate             1\n",
       "glucose             122\n",
       "Heart_Disease         0\n",
       "dtype: int64"
      ]
     },
     "execution_count": 531,
     "metadata": {},
     "output_type": "execute_result"
    }
   ],
   "source": [
    "#is there any null values\n",
    "missing_values_count= df.isnull().sum()\n",
    "missing_values_count"
   ]
  },
  {
   "cell_type": "code",
   "execution_count": 532,
   "id": "e5a168c6",
   "metadata": {},
   "outputs": [
    {
     "data": {
      "text/plain": [
       "0.7998242144583608"
      ]
     },
     "execution_count": 532,
     "metadata": {},
     "output_type": "execute_result"
    }
   ],
   "source": [
    "# Total number of missing values\n",
    "total_cells=np.product(df.shape) ##shape is rows and columns\n",
    "total_missing= missing_values_count.sum()\n",
    "\n",
    "# percent of data missing\n",
    "(total_missing/total_cells)*100 "
   ]
  },
  {
   "cell_type": "code",
   "execution_count": 533,
   "id": "af1ccb01",
   "metadata": {},
   "outputs": [
    {
     "data": {
      "text/plain": [
       "gender              0\n",
       "age                 0\n",
       "smoker              0\n",
       "cigar_no_per_day    0\n",
       "BPMeds              0\n",
       "stroke              0\n",
       "Hypertension        0\n",
       "diabetes            0\n",
       "totChol             0\n",
       "systolic_bp         0\n",
       "diastolic_bp        0\n",
       "BMI                 0\n",
       "heartRate           0\n",
       "glucose             0\n",
       "Heart_Disease       0\n",
       "dtype: int64"
      ]
     },
     "execution_count": 533,
     "metadata": {},
     "output_type": "execute_result"
    }
   ],
   "source": [
    "df2=df.dropna()\n",
    "df2.isnull().sum()"
   ]
  },
  {
   "cell_type": "code",
   "execution_count": 534,
   "id": "cc34026c",
   "metadata": {},
   "outputs": [
    {
     "data": {
      "text/plain": [
       "0"
      ]
     },
     "execution_count": 534,
     "metadata": {},
     "output_type": "execute_result"
    }
   ],
   "source": [
    "# check for duplicates\n",
    "df2.duplicated().sum()"
   ]
  },
  {
   "cell_type": "markdown",
   "id": "0cf76200",
   "metadata": {},
   "source": [
    "### Data Visualization"
   ]
  },
  {
   "cell_type": "code",
   "execution_count": 535,
   "id": "3c618f2d",
   "metadata": {},
   "outputs": [
    {
     "data": {
      "text/plain": [
       "<AxesSubplot:>"
      ]
     },
     "execution_count": 535,
     "metadata": {},
     "output_type": "execute_result"
    },
    {
     "data": {
      "image/png": "[encoded data removed]",
      "text/plain": [
       "<Figure size 432x288 with 1 Axes>"
      ]
     },
     "metadata": {
      "needs_background": "light"
     },
     "output_type": "display_data"
    }
   ],
   "source": [
    "df2['Heart_Disease'].value_counts().plot(kind='bar')"
   ]
  },
  {
   "cell_type": "code",
   "execution_count": 536,
   "id": "2b745e16",
   "metadata": {},
   "outputs": [
    {
     "data": {
      "text/plain": [
       "<seaborn.axisgrid.FacetGrid at 0x16ca1c236d0>"
      ]
     },
     "execution_count": 536,
     "metadata": {},
     "output_type": "execute_result"
    },
    {
     "data": {
      "text/plain": [
       "<Figure size 576x288 with 0 Axes>"
      ]
     },
     "metadata": {},
     "output_type": "display_data"
    },
    {
     "data": {
      "image/png": "[encoded data removed]",
      "text/plain": [
       "<Figure size 360x360 with 1 Axes>"
      ]
     },
     "metadata": {
      "needs_background": "light"
     },
     "output_type": "display_data"
    }
   ],
   "source": [
    "#Distribution of sex of people\n",
    "# set figure size\n",
    "plt.figure(figsize=(8,4))\n",
    "\n",
    "sns.displot(data=df,x='gender')"
   ]
  },
  {
   "cell_type": "code",
   "execution_count": 537,
   "id": "36d859e0",
   "metadata": {},
   "outputs": [
    {
     "data": {
      "text/plain": [
       "<seaborn.axisgrid.FacetGrid at 0x16ca1d8df40>"
      ]
     },
     "execution_count": 537,
     "metadata": {},
     "output_type": "execute_result"
    },
    {
     "data": {
      "text/plain": [
       "<Figure size 576x288 with 0 Axes>"
      ]
     },
     "metadata": {},
     "output_type": "display_data"
    },
    {
     "data": {
      "image/png": "[encoded data removed]",
      "text/plain": [
       "<Figure size 360x360 with 1 Axes>"
      ]
     },
     "metadata": {
      "needs_background": "light"
     },
     "output_type": "display_data"
    }
   ],
   "source": [
    "# age range\n",
    "# set figure size\n",
    "plt.figure(figsize=(8,4))\n",
    "\n",
    "sns.displot(data=df,x='age')"
   ]
  },
  {
   "cell_type": "code",
   "execution_count": 538,
   "id": "3e39c5c5",
   "metadata": {},
   "outputs": [
    {
     "data": {
      "text/plain": [
       "Text(0.5, 1.0, 'Stroke against Heart disease')"
      ]
     },
     "execution_count": 538,
     "metadata": {},
     "output_type": "execute_result"
    },
    {
     "data": {
      "image/png": "[encoded data removed]",
      "text/plain": [
       "<Figure size 576x288 with 1 Axes>"
      ]
     },
     "metadata": {
      "needs_background": "light"
     },
     "output_type": "display_data"
    }
   ],
   "source": [
    "# age range\n",
    "# set figure size\n",
    "plt.figure(figsize=(8,4))\n",
    "\n",
    "sns.countplot(data=df,x='stroke',hue='Heart_Disease').set_title('Stroke against Heart disease')"
   ]
  },
  {
   "cell_type": "code",
   "execution_count": 539,
   "id": "63813a47",
   "metadata": {},
   "outputs": [
    {
     "data": {
      "text/plain": [
       "Text(0.5, 1.0, 'diabetes against Heart disease')"
      ]
     },
     "execution_count": 539,
     "metadata": {},
     "output_type": "execute_result"
    },
    {
     "data": {
      "image/png": "[encoded data removed]",
      "text/plain": [
       "<Figure size 720x288 with 1 Axes>"
      ]
     },
     "metadata": {
      "needs_background": "light"
     },
     "output_type": "display_data"
    }
   ],
   "source": [
    "# age range\n",
    "# set figure size\n",
    "plt.figure(figsize=(10,4))\n",
    "\n",
    "sns.countplot(data=df,x='diabetes',hue='Heart_Disease').set_title('diabetes against Heart disease')"
   ]
  },
  {
   "cell_type": "markdown",
   "id": "90c5f348",
   "metadata": {},
   "source": [
    "most of the patients did not have diabetes. The biger number of those that had it are more likely to get heart disease"
   ]
  },
  {
   "cell_type": "code",
   "execution_count": 542,
   "id": "eafc87b8",
   "metadata": {},
   "outputs": [
    {
     "data": {
      "text/plain": [
       "Text(0.5, 1.0, 'BMI against Heart disease')"
      ]
     },
     "execution_count": 542,
     "metadata": {},
     "output_type": "execute_result"
    },
    {
     "data": {
      "image/png": "[encoded data removed]",
      "text/plain": [
       "<Figure size 1584x288 with 1 Axes>"
      ]
     },
     "metadata": {
      "needs_background": "light"
     },
     "output_type": "display_data"
    }
   ],
   "source": [
    "# age range\n",
    "# set figure size\n",
    "plt.figure(figsize=(22,4))\n",
    "\n",
    "sns.countplot(data=df,x='BMI',hue='Heart_Disease').set_title('BMI against Heart disease')"
   ]
  },
  {
   "cell_type": "code",
   "execution_count": null,
   "id": "e287876e",
   "metadata": {},
   "outputs": [],
   "source": []
  },
  {
   "cell_type": "code",
   "execution_count": null,
   "id": "628f8c7d",
   "metadata": {},
   "outputs": [],
   "source": []
  },
  {
   "cell_type": "code",
   "execution_count": null,
   "id": "53e79ef6",
   "metadata": {},
   "outputs": [],
   "source": []
  },
  {
   "cell_type": "code",
   "execution_count": null,
   "id": "0f9e1efc",
   "metadata": {},
   "outputs": [],
   "source": []
  },
  {
   "cell_type": "code",
   "execution_count": null,
   "id": "9070b0d2",
   "metadata": {},
   "outputs": [],
   "source": []
  },
  {
   "cell_type": "code",
   "execution_count": 512,
   "id": "326cc33c",
   "metadata": {},
   "outputs": [],
   "source": [
    "x=df2[['male','age','prevalentHyp','diabetes','totChol','sysBP','diaBP','BMI','glucose']].values\n",
    "y=df2['TenYearCHD'].values"
   ]
  },
  {
   "cell_type": "code",
   "execution_count": 513,
   "id": "ef9bf1da",
   "metadata": {},
   "outputs": [
    {
     "data": {
      "text/plain": [
       "0.8941292065831491"
      ]
     },
     "execution_count": 513,
     "metadata": {},
     "output_type": "execute_result"
    }
   ],
   "source": [
    "# Total number of missing values\n",
    "total_cells=np.product(df2.shape) ##shape is rows and columns\n",
    "total_missing= missing_values_count.sum()\n",
    "\n",
    "# percent of data missing\n",
    "(total_missing/total_cells)*100 "
   ]
  },
  {
   "cell_type": "code",
   "execution_count": 514,
   "id": "96229fda",
   "metadata": {},
   "outputs": [
    {
     "data": {
      "text/plain": [
       "(1357, 9)"
      ]
     },
     "execution_count": 514,
     "metadata": {},
     "output_type": "execute_result"
    }
   ],
   "source": [
    "x.shape"
   ]
  },
  {
   "cell_type": "code",
   "execution_count": 515,
   "id": "c3d49bcc",
   "metadata": {},
   "outputs": [
    {
     "data": {
      "text/plain": [
       "(1357,)"
      ]
     },
     "execution_count": 515,
     "metadata": {},
     "output_type": "execute_result"
    }
   ],
   "source": [
    "y.shape"
   ]
  },
  {
   "cell_type": "code",
   "execution_count": 516,
   "id": "3795ff8e",
   "metadata": {},
   "outputs": [],
   "source": [
    "from sklearn.linear_model import LogisticRegression\n",
    "from sklearn.model_selection import train_test_split\n",
    "from sklearn.preprocessing import StandardScaler \n",
    "# normalization of dataset\n",
    "scaler = StandardScaler()\n",
    "# X = scaler.fit_transform(x)\n",
    "X_train, X_test, Y_train, Y_test = train_test_split(x, y, test_size=0.2, random_state=2)"
   ]
  },
  {
   "cell_type": "code",
   "execution_count": 517,
   "id": "2cc81f3e",
   "metadata": {},
   "outputs": [
    {
     "data": {
      "text/plain": [
       "array([[ 0.  , 47.  ,  0.  , ..., 85.  , 20.05, 80.  ],\n",
       "       [ 1.  , 55.  ,  0.  , ..., 86.5 , 33.76, 92.  ],\n",
       "       [ 1.  , 59.  ,  0.  , ..., 73.  , 24.92, 81.  ],\n",
       "       ...,\n",
       "       [ 1.  , 40.  ,  1.  , ..., 95.5 , 29.42, 89.  ],\n",
       "       [ 0.  , 64.  ,  1.  , ..., 85.  , 26.01, 79.  ],\n",
       "       [ 0.  , 55.  ,  0.  , ..., 62.  , 29.44, 88.  ]])"
      ]
     },
     "execution_count": 517,
     "metadata": {},
     "output_type": "execute_result"
    }
   ],
   "source": [
    "X_train"
   ]
  },
  {
   "cell_type": "code",
   "execution_count": 518,
   "id": "bff637af",
   "metadata": {},
   "outputs": [
    {
     "data": {
      "text/plain": [
       "array([0, 1, 0, ..., 0, 1, 0], dtype=int64)"
      ]
     },
     "execution_count": 518,
     "metadata": {},
     "output_type": "execute_result"
    }
   ],
   "source": [
    "Y_train"
   ]
  },
  {
   "cell_type": "code",
   "execution_count": 519,
   "id": "80477562",
   "metadata": {},
   "outputs": [],
   "source": [
    "lin=LogisticRegression()"
   ]
  },
  {
   "cell_type": "code",
   "execution_count": 520,
   "id": "43d85151",
   "metadata": {},
   "outputs": [
    {
     "name": "stderr",
     "output_type": "stream",
     "text": [
      "C:\\Users\\Prudence\\anaconda3\\lib\\site-packages\\sklearn\\linear_model\\_logistic.py:814: ConvergenceWarning: lbfgs failed to converge (status=1):\n",
      "STOP: TOTAL NO. of ITERATIONS REACHED LIMIT.\n",
      "\n",
      "Increase the number of iterations (max_iter) or scale the data as shown in:\n",
      "    https://scikit-learn.org/stable/modules/preprocessing.html\n",
      "Please also refer to the documentation for alternative solver options:\n",
      "    https://scikit-learn.org/stable/modules/linear_model.html#logistic-regression\n",
      "  n_iter_i = _check_optimize_result(\n"
     ]
    },
    {
     "data": {
      "text/plain": [
       "LogisticRegression()"
      ]
     },
     "execution_count": 520,
     "metadata": {},
     "output_type": "execute_result"
    }
   ],
   "source": [
    "lin.fit(X_train,Y_train)"
   ]
  },
  {
   "cell_type": "code",
   "execution_count": 521,
   "id": "a6274ff8",
   "metadata": {},
   "outputs": [],
   "source": [
    "ypred=lin.predict(X_test)"
   ]
  },
  {
   "cell_type": "code",
   "execution_count": 522,
   "id": "93eae1b3",
   "metadata": {},
   "outputs": [
    {
     "data": {
      "text/plain": [
       "array([1, 0, 0, 0, 0, 0, 0, 0, 0, 1, 0, 0, 0, 0, 1, 1, 0, 0, 1, 1, 1, 0,\n",
       "       0, 0, 0, 0, 0, 0, 0, 1, 0, 1, 0, 0, 0, 1, 0, 1, 0, 0, 0, 0, 0, 0,\n",
       "       1, 1, 1, 1, 0, 1, 0, 0, 0, 0, 1, 0, 0, 0, 1, 1, 1, 1, 1, 0, 0, 0,\n",
       "       1, 1, 0, 1, 1, 0, 1, 0, 0, 0, 0, 0, 0, 1, 0, 1, 0, 0, 0, 1, 0, 0,\n",
       "       0, 0, 0, 1, 0, 0, 1, 0, 0, 0, 1, 1, 0, 0, 0, 1, 1, 0, 0, 1, 0, 1,\n",
       "       1, 1, 1, 0, 1, 0, 1, 0, 0, 0, 1, 0, 1, 1, 0, 0, 0, 0, 1, 1, 0, 0,\n",
       "       0, 0, 0, 0, 0, 0, 0, 0, 0, 0, 0, 0, 0, 1, 0, 1, 0, 0, 0, 1, 0, 1,\n",
       "       0, 0, 0, 1, 0, 0, 0, 0, 1, 0, 0, 1, 1, 1, 0, 1, 0, 0, 0, 0, 0, 0,\n",
       "       0, 0, 1, 1, 1, 0, 0, 0, 0, 0, 0, 0, 1, 1, 1, 0, 0, 0, 1, 1, 0, 1,\n",
       "       0, 0, 1, 0, 1, 0, 1, 1, 0, 1, 0, 0, 0, 0, 0, 0, 0, 0, 1, 0, 0, 0,\n",
       "       0, 0, 0, 0, 1, 1, 0, 1, 0, 0, 0, 0, 0, 0, 1, 1, 0, 1, 0, 1, 0, 0,\n",
       "       0, 0, 1, 0, 0, 0, 0, 0, 0, 0, 0, 1, 0, 0, 0, 0, 0, 1, 0, 0, 0, 0,\n",
       "       0, 0, 0, 0, 0, 0, 0, 1], dtype=int64)"
      ]
     },
     "execution_count": 522,
     "metadata": {},
     "output_type": "execute_result"
    }
   ],
   "source": [
    "ypred"
   ]
  },
  {
   "cell_type": "code",
   "execution_count": 523,
   "id": "9026136e",
   "metadata": {},
   "outputs": [
    {
     "data": {
      "text/plain": [
       "0.5654450261780105"
      ]
     },
     "execution_count": 523,
     "metadata": {},
     "output_type": "execute_result"
    }
   ],
   "source": [
    "from sklearn.metrics import f1_score\n",
    "f1_score(Y_test, ypred)"
   ]
  },
  {
   "cell_type": "code",
   "execution_count": 524,
   "id": "a85e7a4e",
   "metadata": {},
   "outputs": [
    {
     "data": {
      "text/plain": [
       "array([1], dtype=int64)"
      ]
     },
     "execution_count": 524,
     "metadata": {},
     "output_type": "execute_result"
    }
   ],
   "source": [
    "xt=[[0,61,1,0,225,150,95,28.58,103]]\n",
    "pred=lin.predict(xt)\n",
    "pred"
   ]
  },
  {
   "cell_type": "markdown",
   "id": "8f6fbf37",
   "metadata": {},
   "source": [
    "## Deployment"
   ]
  },
  {
   "cell_type": "code",
   "execution_count": null,
   "id": "16dabe17",
   "metadata": {},
   "outputs": [],
   "source": [
    "from joblib import dump\n",
    "dump(logistic,'C:/Users/Prudence/Desktop/Heart_Disease/Model/prediction.joblib')\n"
   ]
  },
  {
   "cell_type": "code",
   "execution_count": null,
   "id": "025dfd00",
   "metadata": {},
   "outputs": [],
   "source": []
  },
  {
   "cell_type": "code",
   "execution_count": null,
   "id": "0d0454f2",
   "metadata": {},
   "outputs": [],
   "source": []
  },
  {
   "cell_type": "code",
   "execution_count": null,
   "id": "5db709c9",
   "metadata": {},
   "outputs": [],
   "source": []
  }
 ],
 "metadata": {
  "kernelspec": {
   "display_name": "Python 3 (ipykernel)",
   "language": "python",
   "name": "python3"
  },
  "language_info": {
   "codemirror_mode": {
    "name": "ipython",
    "version": 3
   },
   "file_extension": ".py",
   "mimetype": "text/x-python",
   "name": "python",
   "nbconvert_exporter": "python",
   "pygments_lexer": "ipython3",
   "version": "3.9.12"
  }
 },
 "nbformat": 4,
 "nbformat_minor": 5
}
